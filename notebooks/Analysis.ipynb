{
 "cells": [
  {
   "cell_type": "code",
   "execution_count": 1,
   "id": "5bcad7cf",
   "metadata": {},
   "outputs": [
    {
     "ename": "SyntaxError",
     "evalue": "invalid syntax (1617391534.py, line 2)",
     "output_type": "error",
     "traceback": [
      "\u001b[1;36m  Cell \u001b[1;32mIn[1], line 2\u001b[1;36m\u001b[0m\n\u001b[1;33m    This project involves analyzing data from an E-commerce company based in New York City. The objective is to understand whether the company should focus more on their mobile app or website based on customer usage and shopping patterns.\u001b[0m\n\u001b[1;37m         ^\u001b[0m\n\u001b[1;31mSyntaxError\u001b[0m\u001b[1;31m:\u001b[0m invalid syntax\n"
     ]
    }
   ],
   "source": [
    "# Linear Regression Project\n",
    "This project involves analyzing data from an E-commerce company based in New York City. The objective is to understand whether the company should focus more on their mobile app or website based on customer usage and shopping patterns."
   ]
  },
  {
   "cell_type": "code",
   "execution_count": null,
   "id": "3150297c",
   "metadata": {},
   "outputs": [],
   "source": [
    "import pandas as pd\n",
    "import numpy as np\n",
    "import seaborn as sns\n",
    "import matplotlib.pyplot as plt\n",
    "%matplotlib inline"
   ]
  },
  {
   "cell_type": "code",
   "execution_count": null,
   "id": "1605b3fb",
   "metadata": {},
   "outputs": [],
   "source": [
    "# Load the dataset\n",
    "customers = pd.read_csv('Ecommerce Customers')\n",
    "\n",
    "# Display the first few rows of the dataframe\n",
    "customers.head()"
   ]
  },
  {
   "cell_type": "code",
   "execution_count": null,
   "id": "7541747b",
   "metadata": {},
   "outputs": [],
   "source": [
    "# Basic info about the dataset\n",
    "customers.info()\n",
    "\n",
    "# Statistical summary\n",
    "customers.describe()"
   ]
  },
  {
   "cell_type": "code",
   "execution_count": null,
   "id": "884260b9",
   "metadata": {},
   "outputs": [],
   "source": [
    "# Time on Website vs Yearly Amount Spent\n",
    "sns.jointplot(x='Time on Website', y='Yearly Amount Spent', data=customers)\n",
    "plt.savefig('time_on_website_vs_yearly_amount.png')\n",
    "\n",
    "# Time on App vs Yearly Amount Spent\n",
    "sns.jointplot(x='Time on App', y='Yearly Amount Spent', data=customers)\n",
    "plt.savefig('time_on_app_vs_yearly_amount.png')\n",
    "\n",
    "# Time on App vs Length of Membership\n",
    "sns.jointplot(x='Time on App', y='Length of Membership', kind='hex', data=customers)\n",
    "plt.savefig('time_on_app_vs_length_of_membership.png')\n",
    "\n",
    "# Pairplot for overall data visualization\n",
    "sns.pairplot(customers)\n",
    "plt.savefig('pairplot.png')"
   ]
  },
  {
   "cell_type": "code",
   "execution_count": null,
   "id": "6b472978",
   "metadata": {},
   "outputs": [],
   "source": [
    "# Training and Testing Data\n",
    "from sklearn.model_selection import train_test_split\n",
    "\n",
    "# Define features and target variable\n",
    "X = customers[['Avg. Session Length', 'Time on App', 'Time on Website', 'Length of Membership']]\n",
    "y = customers['Yearly Amount Spent']\n",
    "\n",
    "# Split the data into training and testing sets\n",
    "X_train, X_test, y_train, y_test = train_test_split(X, y, test_size=0.3, random_state=101)"
   ]
  },
  {
   "cell_type": "code",
   "execution_count": null,
   "id": "9a5b5de5",
   "metadata": {},
   "outputs": [],
   "source": [
    "# Training the Model\n",
    "from sklearn.linear_model import LinearRegression\n",
    "\n",
    "# Create an instance of LinearRegression\n",
    "lm = LinearRegression()\n",
    "\n",
    "# Train the model\n",
    "lm.fit(X_train, y_train)\n",
    "\n",
    "# Print out the coefficients of the model\n",
    "print('Coefficients: \\n', lm.coef_)"
   ]
  },
  {
   "cell_type": "code",
   "execution_count": null,
   "id": "aae7d0d0",
   "metadata": {},
   "outputs": [],
   "source": [
    "# Predicting off the X_test set\n",
    "predictions = lm.predict(X_test)\n",
    "\n",
    "# Scatterplot of the real test values versus the predicted values\n",
    "plt.scatter(y_test, predictions)\n",
    "plt.xlabel('Y Test')\n",
    "plt.ylabel('Predicted Y')\n",
    "plt.savefig('test.png')"
   ]
  },
  {
   "cell_type": "code",
   "execution_count": null,
   "id": "1f3b9198",
   "metadata": {},
   "outputs": [],
   "source": [
    "from sklearn import metrics\n",
    "\n",
    "# Calculate the performance metrics\n",
    "print('MAE:', metrics.mean_absolute_error(y_test, predictions))\n",
    "print('MSE:', metrics.mean_squared_error(y_test, predictions))\n",
    "print('RMSE:', np.sqrt(metrics.mean_squared_error(y_test, predictions)))\n",
    "\n",
    "# Plotting a histogram of the residuals\n",
    "sns.displot((y_test - predictions), bins=50)\n",
    "plt.savefig('hist_y_test_predictions.png')"
   ]
  }
 ],
 "metadata": {
  "kernelspec": {
   "display_name": "Python 3 (ipykernel)",
   "language": "python",
   "name": "python3"
  },
  "language_info": {
   "codemirror_mode": {
    "name": "ipython",
    "version": 3
   },
   "file_extension": ".py",
   "mimetype": "text/x-python",
   "name": "python",
   "nbconvert_exporter": "python",
   "pygments_lexer": "ipython3",
   "version": "3.11.5"
  }
 },
 "nbformat": 4,
 "nbformat_minor": 5
}
